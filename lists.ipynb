{
  "nbformat": 4,
  "nbformat_minor": 0,
  "metadata": {
    "colab": {
      "name": "lists",
      "provenance": [],
      "authorship_tag": "ABX9TyNgIhCMJsNupNy47Nd8pO7I",
      "include_colab_link": true
    },
    "kernelspec": {
      "name": "python3",
      "display_name": "Python 3"
    },
    "language_info": {
      "name": "python"
    }
  },
  "cells": [
    {
      "cell_type": "markdown",
      "metadata": {
        "id": "view-in-github",
        "colab_type": "text"
      },
      "source": [
        "<a href=\"https://colab.research.google.com/github/AMRUTH122010304026/AMRUTH122010304026/blob/main/lists.ipynb\" target=\"_parent\"><img src=\"https://colab.research.google.com/assets/colab-badge.svg\" alt=\"Open In Colab\"/></a>"
      ]
    },
    {
      "cell_type": "code",
      "execution_count": 12,
      "metadata": {
        "colab": {
          "base_uri": "https://localhost:8080/"
        },
        "id": "aRG7OwfnWTit",
        "outputId": "c8b383e7-1524-4dbf-e366-14d9be4f989c"
      },
      "outputs": [
        {
          "output_type": "stream",
          "name": "stdout",
          "text": [
            "['apple', 'orange', 'grapes']\n",
            "<class 'list'>\n",
            "['apple', 'orange', 'grapes', 'mango']\n",
            "['apple', 'banana', 'orange', 'grapes', 'mango']\n",
            "mango\n",
            "banana\n"
          ]
        }
      ],
      "source": [
        "fruits=[\"apple\",\"orange\",\"grapes\"]\n",
        "print(fruits)\n",
        "print(type(fruits))\n",
        "fruits.append(\"mango\")\n",
        "print(fruits)\n",
        "fruits.insert(1,\"banana\")\n",
        "print(fruits)\n",
        "print(fruits[4])\n",
        "print(fruits[-4])"
      ]
    },
    {
      "cell_type": "markdown",
      "source": [
        "deleting elements in list\n"
      ],
      "metadata": {
        "id": "XygsAzX_dwfI"
      }
    },
    {
      "cell_type": "code",
      "source": [
        "fruits=[\"apple\",\"orange\",\"grapes\"]\n",
        "fruits.pop(1)\n",
        "print(fruits)\n"
      ],
      "metadata": {
        "colab": {
          "base_uri": "https://localhost:8080/"
        },
        "id": "HisLDGqBd1DA",
        "outputId": "85ecf6b0-74af-4a6d-9f44-b8f25f556ffa"
      },
      "execution_count": 33,
      "outputs": [
        {
          "output_type": "stream",
          "name": "stdout",
          "text": [
            "['apple', 'grapes']\n"
          ]
        }
      ]
    }
  ]
}